{
 "cells": [
  {
   "cell_type": "markdown",
   "id": "063eb63d",
   "metadata": {},
   "source": [
    "### Mini-Project: Basic Statistics & Data Filtering with Numpy\n",
    "\n",
    "This mini-project uses Numpy to analyze and summarize simulated data, showcasing array manipulation, statistics, reshaping, and boolean indexing—all core FCC topics."
   ]
  },
  {
   "cell_type": "markdown",
   "id": "037348ea",
   "metadata": {},
   "source": [
    "##### 1. Import Libraries"
   ]
  },
  {
   "cell_type": "code",
   "execution_count": 1,
   "id": "25d13ba9",
   "metadata": {},
   "outputs": [],
   "source": [
    "import numpy as np"
   ]
  },
  {
   "cell_type": "markdown",
   "id": "ba071b34",
   "metadata": {},
   "source": [
    "##### 2. Generate Sample Data\n",
    "Create a 1D array of 50 random integers between 10 and 99 (inclusive)."
   ]
  },
  {
   "cell_type": "code",
   "execution_count": 2,
   "id": "f3e0a98b",
   "metadata": {},
   "outputs": [
    {
     "name": "stdout",
     "output_type": "stream",
     "text": [
      "Data array:\n",
      " [70 60 47 94 15 54 71 84 78 20 83 33 90 59 38 41 36 19 64 43 27 25 86 41\n",
      " 25 51 53 71 76 28 15 48 99 47 42 46 64 13 34 32 33 85 94 12 53 63 11 75\n",
      " 35 30]\n"
     ]
    }
   ],
   "source": [
    "data = np.random.randint(10, 100, size=50)\n",
    "print(\"Data array:\\n\", data)"
   ]
  },
  {
   "cell_type": "markdown",
   "id": "687a7327",
   "metadata": {},
   "source": [
    "##### 3. Basic Statistics"
   ]
  },
  {
   "cell_type": "code",
   "execution_count": 3,
   "id": "b4b13a6e",
   "metadata": {},
   "outputs": [
    {
     "name": "stdout",
     "output_type": "stream",
     "text": [
      "Mean: 50.26\n",
      "Std Dev: 24.55\n",
      "Min: 11, Max: 99\n"
     ]
    }
   ],
   "source": [
    "mean = data.mean()\n",
    "std = data.std()\n",
    "min_val = data.min()\n",
    "max_val = data.max()\n",
    "\n",
    "print(f\"Mean: {mean:.2f}\")\n",
    "print(f\"Std Dev: {std:.2f}\")\n",
    "print(f\"Min: {min_val}, Max: {max_val}\")"
   ]
  },
  {
   "cell_type": "markdown",
   "id": "b820f3f1",
   "metadata": {},
   "source": [
    "##### 4. Reshape and Slice\n",
    "Reshape data into a 5x10 matrix and compute the sum of each row.\n"
   ]
  },
  {
   "cell_type": "code",
   "execution_count": 4,
   "id": "545c6954",
   "metadata": {},
   "outputs": [
    {
     "name": "stdout",
     "output_type": "stream",
     "text": [
      "Data (5x10 matrix):\n",
      " [[70 60 47 94 15 54 71 84 78 20]\n",
      " [83 33 90 59 38 41 36 19 64 43]\n",
      " [27 25 86 41 25 51 53 71 76 28]\n",
      " [15 48 99 47 42 46 64 13 34 32]\n",
      " [33 85 94 12 53 63 11 75 35 30]]\n",
      "Sum of each row: [593 506 483 440 491]\n"
     ]
    }
   ],
   "source": [
    "data_matrix = data.reshape(5, 10)\n",
    "print(\"Data (5x10 matrix):\\n\", data_matrix)\n",
    "\n",
    "row_sums = data_matrix.sum(axis=1)\n",
    "print(\"Sum of each row:\", row_sums)"
   ]
  },
  {
   "cell_type": "markdown",
   "id": "4f057cdb",
   "metadata": {},
   "source": [
    "##### 5. Boolean Indexing: Filter Values\n",
    "\n",
    "Find all numbers in the original data greater than (mean + standard deviation)."
   ]
  },
  {
   "cell_type": "code",
   "execution_count": 5,
   "id": "4aeb173f",
   "metadata": {},
   "outputs": [
    {
     "name": "stdout",
     "output_type": "stream",
     "text": [
      "Values greater than one std above mean: [94 84 78 83 90 86 76 99 85 94 75]\n"
     ]
    }
   ],
   "source": [
    "high_values = data[data > (mean + std)]\n",
    "print(\"Values greater than one std above mean:\", high_values)"
   ]
  },
  {
   "cell_type": "markdown",
   "id": "2ce83b6e",
   "metadata": {},
   "source": [
    "##### 6.  Replace Outliers\n",
    "\n",
    "Replace all values above (mean + std) with the mean (demonstrating boolean assignment)."
   ]
  },
  {
   "cell_type": "code",
   "execution_count": 6,
   "id": "cdeb9911",
   "metadata": {},
   "outputs": [
    {
     "name": "stdout",
     "output_type": "stream",
     "text": [
      "Data after replacing high outliers with mean:\n",
      " [70 60 47 50 15 54 71 50 50 20 50 33 50 59 38 41 36 19 64 43 27 25 50 41\n",
      " 25 51 53 71 50 28 15 48 50 47 42 46 64 13 34 32 33 50 50 12 53 63 11 50\n",
      " 35 30]\n"
     ]
    }
   ],
   "source": [
    "data_clean = data.copy()\n",
    "data_clean[data_clean > (mean + std)] = int(mean)\n",
    "print(\"Data after replacing high outliers with mean:\\n\", data_clean)"
   ]
  },
  {
   "cell_type": "markdown",
   "id": "93e111ed",
   "metadata": {},
   "source": [
    "#### Reflection\n",
    "\n",
    "In this mini-project, I used Numpy to generate, analyze, and transform a dataset of random integers. I practiced several core skills, including array creation, reshaping, statistical calculations (mean, standard deviation, min, max), and boolean indexing for data filtering and conditional replacement.\n",
    "\n",
    "What I learned:\n",
    "- How to quickly produce and reshape large numerical arrays with Numpy functions.\n",
    "- Efficient ways to calculate aggregate statistics and extract meaningful data patterns.\n",
    "- The power of boolean indexing for filtering and cleaning data without explicit loops.\n",
    "- How reshaping and axis-based operations simplify working with multidimensional data.\n",
    "\n",
    "Questions/Next Steps:\n",
    "- How might I handle data that contains missing values (NaN) solely using Numpy?\n",
    "- Are there Numpy functions specialized for trimming or capping extreme outliers in more complex data scenarios?\n",
    "- I’d like to explore more real-world datasets to apply these methods and compare with Pandas workflows in the future.\n",
    "\n",
    "Overall, this project reinforced my understanding of Numpy and prepared me for deeper data analysis tasks using Python.\n"
   ]
  }
 ],
 "metadata": {
  "kernelspec": {
   "display_name": "Python 3",
   "language": "python",
   "name": "python3"
  },
  "language_info": {
   "codemirror_mode": {
    "name": "ipython",
    "version": 3
   },
   "file_extension": ".py",
   "mimetype": "text/x-python",
   "name": "python",
   "nbconvert_exporter": "python",
   "pygments_lexer": "ipython3",
   "version": "3.10.9"
  }
 },
 "nbformat": 4,
 "nbformat_minor": 5
}
