{
 "cells": [
  {
   "cell_type": "markdown",
   "id": "758db4a4",
   "metadata": {},
   "source": [
    "### FCC Numpy Practice\n",
    "\n",
    "Hands-on code based on the FCC Data Analysis Numpy section."
   ]
  },
  {
   "cell_type": "code",
   "execution_count": 8,
   "id": "856b97a2",
   "metadata": {},
   "outputs": [],
   "source": [
    "# 1. Importing Numpy\n",
    "import numpy as np  # Import the numpy library as 'np' (universal convention)"
   ]
  },
  {
   "cell_type": "code",
   "execution_count": 9,
   "id": "63f37a06",
   "metadata": {},
   "outputs": [
    {
     "name": "stdout",
     "output_type": "stream",
     "text": [
      "arr1: [1 2 3 4]\n",
      "arr2:\n",
      " [[1 2]\n",
      " [3 4]]\n",
      "zeros:\n",
      " [[0. 0. 0.]\n",
      " [0. 0. 0.]]\n",
      "ones: [1. 1. 1. 1.]\n",
      "range_arr: [0 2 4 6 8]\n"
     ]
    }
   ],
   "source": [
    "# 2. Array Creation Examples\n",
    "arr1 = np.array([1, 2, 3, 4])          # 1D array\n",
    "arr2 = np.array([[1, 2], [3, 4]])      # 2D array (matrix)\n",
    "zeros = np.zeros((2, 3))               # 2 rows, 3 columns filled with 0\n",
    "ones = np.ones(4)                      # 1D array of four 1s\n",
    "range_arr = np.arange(0, 10, 2)        # Even numbers from 0 up to <10\n",
    "print(\"arr1:\", arr1)\n",
    "print(\"arr2:\\n\", arr2)\n",
    "print(\"zeros:\\n\", zeros)\n",
    "print(\"ones:\", ones)\n",
    "print(\"range_arr:\", range_arr)\n"
   ]
  },
  {
   "cell_type": "code",
   "execution_count": 10,
   "id": "18cae3cf",
   "metadata": {},
   "outputs": [
    {
     "name": "stdout",
     "output_type": "stream",
     "text": [
      "Shape of arr1: (4,)\n",
      "Data type of arr2: int64\n",
      "Number of elements in arr2: 4\n",
      "Number of dimensions in arr2: 2\n"
     ]
    }
   ],
   "source": [
    "# 3. Array Types, Shapes, and Attributes\n",
    "print(\"Shape of arr1:\", arr1.shape)\n",
    "print(\"Data type of arr2:\", arr2.dtype)\n",
    "print(\"Number of elements in arr2:\", arr2.size)\n",
    "print(\"Number of dimensions in arr2:\", arr2.ndim)"
   ]
  },
  {
   "cell_type": "code",
   "execution_count": 11,
   "id": "f4bad450",
   "metadata": {},
   "outputs": [
    {
     "name": "stdout",
     "output_type": "stream",
     "text": [
      "Second and third elements of arr1: [2 3]\n",
      "Last element of arr1: 4\n"
     ]
    }
   ],
   "source": [
    "# 4. Indexing & Slicing (1D)\n",
    "print(\"Second and third elements of arr1:\", arr1[1:3])\n",
    "print(\"Last element of arr1:\", arr1[-1])"
   ]
  },
  {
   "cell_type": "code",
   "execution_count": 17,
   "id": "d12b6781",
   "metadata": {},
   "outputs": [
    {
     "name": "stdout",
     "output_type": "stream",
     "text": [
      "Element at row 0, col 1 of arr2: 2\n",
      "First column of arr2: [1 3]\n"
     ]
    }
   ],
   "source": [
    "# 5. Indexing (2D arrays)\n",
    "print(\"Element at row 0, col 1 of arr2:\", arr2[0, 1])\n",
    "print(\"First column of arr2:\", arr2[:, 0])  # All rows, column 0"
   ]
  },
  {
   "cell_type": "code",
   "execution_count": 16,
   "id": "d87044b2",
   "metadata": {},
   "outputs": [
    {
     "name": "stdout",
     "output_type": "stream",
     "text": [
      "Reshaped arr1 to 2x2:\n",
      " [[  1 200]\n",
      " [  3   4]]\n",
      "Flattened arr2: [1 2 3 4]\n"
     ]
    }
   ],
   "source": [
    "# 6. Changing Shape\n",
    "reshaped = arr1.reshape((2, 2))\n",
    "print(\"Reshaped arr1 to 2x2:\\n\", reshaped)\n",
    "flattened = arr2.flatten()\n",
    "print(\"Flattened arr2:\", flattened)"
   ]
  },
  {
   "cell_type": "code",
   "execution_count": 15,
   "id": "f9a30a3e",
   "metadata": {},
   "outputs": [
    {
     "name": "stdout",
     "output_type": "stream",
     "text": [
      "arr1 + 5: [  6 205   8   9]\n",
      "arr2 - 1:\n",
      " [[0 1]\n",
      " [2 3]]\n",
      "arr1 * 2: [  2 400   6   8]\n",
      "arr1 / 1.5: [  0.66666667 133.33333333   2.           2.66666667]\n"
     ]
    }
   ],
   "source": [
    "# 7. Mathematical Operations (elementwise)\n",
    "print(\"arr1 + 5:\", arr1 + 5)          # Adds 5 to each element\n",
    "print(\"arr2 - 1:\\n\", arr2 - 1)        # Subtracts 1 from each element\n",
    "print(\"arr1 * 2:\", arr1 * 2)          # Multiplies each by 2\n",
    "print(\"arr1 / 1.5:\", arr1 / 1.5)      # Divides each by 1.5"
   ]
  },
  {
   "cell_type": "code",
   "execution_count": 14,
   "id": "74d1e9ae",
   "metadata": {},
   "outputs": [
    {
     "name": "stdout",
     "output_type": "stream",
     "text": [
      "Sum of arr1: 208\n",
      "Mean of arr2: 2.5\n",
      "Max of range_arr: 8\n",
      "Standard deviation of arr1: 85.45466634420849\n"
     ]
    }
   ],
   "source": [
    "# 8. Aggregations and Statistics\n",
    "print(\"Sum of arr1:\", arr1.sum())\n",
    "print(\"Mean of arr2:\", arr2.mean())\n",
    "print(\"Max of range_arr:\", range_arr.max())\n",
    "print(\"Standard deviation of arr1:\", arr1.std())"
   ]
  },
  {
   "cell_type": "code",
   "execution_count": 13,
   "id": "4643efea",
   "metadata": {},
   "outputs": [
    {
     "name": "stdout",
     "output_type": "stream",
     "text": [
      "Mask for arr1 > 2: [False  True  True  True]\n",
      "Filtered arr1 (values > 2): [200   3   4]\n"
     ]
    }
   ],
   "source": [
    "# 9. Boolean Indexing (Filtering)\n",
    "greater_than_two = arr1 > 2\n",
    "print(\"Mask for arr1 > 2:\", greater_than_two)\n",
    "print(\"Filtered arr1 (values > 2):\", arr1[greater_than_two])"
   ]
  },
  {
   "cell_type": "code",
   "execution_count": null,
   "id": "34d7a386",
   "metadata": {},
   "outputs": [
    {
     "name": "stdout",
     "output_type": "stream",
     "text": [
      "arr1 after arr3 modification: [1 2 3 4]\n",
      "arr3 after arr3 modification: [100   2   3   4]\n",
      "arr1 after arr4 modification: [  1 200   3   4]\n",
      "arr4 after arr4 modification: [  1 200   3   4]\n"
     ]
    }
   ],
   "source": [
    "# 10. Copy vs. View\n",
    "arr3 = arr1.copy()   # arr3 is a new, independent array\n",
    "arr3[0] = 100        # Only changes arr3\n",
    "print(\"arr1 after arr3 modification:\", arr1)\n",
    "print(\"arr3 after arr3 modification:\", arr3)\n",
    "\n",
    "arr4 = arr1         # arr4 points to arr1's data\n",
    "arr4[1] = 200\n",
    "print(\"arr1 after arr4 modification:\", arr1)  # arr1 changes\n",
    "print(\"arr4 after arr4 modification:\", arr4)"
   ]
  }
 ],
 "metadata": {
  "kernelspec": {
   "display_name": "Python 3",
   "language": "python",
   "name": "python3"
  },
  "language_info": {
   "codemirror_mode": {
    "name": "ipython",
    "version": 3
   },
   "file_extension": ".py",
   "mimetype": "text/x-python",
   "name": "python",
   "nbconvert_exporter": "python",
   "pygments_lexer": "ipython3",
   "version": "3.10.9"
  }
 },
 "nbformat": 4,
 "nbformat_minor": 5
}
