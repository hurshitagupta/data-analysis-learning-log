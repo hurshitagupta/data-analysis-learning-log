{
 "cells": [
  {
   "cell_type": "markdown",
   "id": "6af7e0d3",
   "metadata": {},
   "source": [
    "### Numpy FCC Review Exercises\n",
    "\n",
    "Practical exercises that closely follow the FreeCodeCamp curriculum to reinforce understanding."
   ]
  },
  {
   "cell_type": "code",
   "execution_count": 1,
   "id": "c2e807ec",
   "metadata": {},
   "outputs": [
    {
     "name": "stdout",
     "output_type": "stream",
     "text": [
      "Array from 10 to 19: [10 11 12 13 14 15 16 17 18 19]\n"
     ]
    }
   ],
   "source": [
    "# Exercise 1: Create an array of integers from 10 to 19 (inclusive)\n",
    "import numpy as np\n",
    "arr = np.arange(10, 20)\n",
    "print(\"Array from 10 to 19:\", arr)"
   ]
  },
  {
   "cell_type": "code",
   "execution_count": 3,
   "id": "ab130d16",
   "metadata": {},
   "outputs": [
    {
     "name": "stdout",
     "output_type": "stream",
     "text": [
      "2x5 matrix:\n",
      " [[10 11 12 13 14]\n",
      " [15 16 17 18 19]]\n"
     ]
    }
   ],
   "source": [
    "# Exercise 2: Reshape the array to a 2x5 matrix\n",
    "arr2d = arr.reshape((2, 5))\n",
    "print(\"2x5 matrix:\\n\", arr2d)"
   ]
  },
  {
   "cell_type": "code",
   "execution_count": 4,
   "id": "8b7dff4c",
   "metadata": {},
   "outputs": [
    {
     "name": "stdout",
     "output_type": "stream",
     "text": [
      "Numbers greater than 14 in arr: [15 16 17 18 19]\n"
     ]
    }
   ],
   "source": [
    "# Exercise 3: Select all numbers in arr greater than 14\n",
    "greater_than_14 = arr[arr > 14]\n",
    "print(\"Numbers greater than 14 in arr:\", greater_than_14)"
   ]
  },
  {
   "cell_type": "code",
   "execution_count": 5,
   "id": "471c0618",
   "metadata": {},
   "outputs": [
    {
     "name": "stdout",
     "output_type": "stream",
     "text": [
      "Sum of all elements in arr: 145\n"
     ]
    }
   ],
   "source": [
    "# Exercise 4: Compute the sum of arr\n",
    "total_sum = arr.sum()\n",
    "print(\"Sum of all elements in arr:\", total_sum)"
   ]
  },
  {
   "cell_type": "code",
   "execution_count": 6,
   "id": "1a70562d",
   "metadata": {},
   "outputs": [
    {
     "name": "stdout",
     "output_type": "stream",
     "text": [
      "arr2d after replacing values > 15 with 0:\n",
      " [[10 11 12 13 14]\n",
      " [15  0  0  0  0]]\n"
     ]
    }
   ],
   "source": [
    "# Exercise 5: Set all values in arr2d greater than 15 to 0 (in-place replacement)\n",
    "arr2d[arr2d > 15] = 0\n",
    "print(\"arr2d after replacing values > 15 with 0:\\n\", arr2d)"
   ]
  }
 ],
 "metadata": {
  "kernelspec": {
   "display_name": "Python 3",
   "language": "python",
   "name": "python3"
  },
  "language_info": {
   "codemirror_mode": {
    "name": "ipython",
    "version": 3
   },
   "file_extension": ".py",
   "mimetype": "text/x-python",
   "name": "python",
   "nbconvert_exporter": "python",
   "pygments_lexer": "ipython3",
   "version": "3.10.9"
  }
 },
 "nbformat": 4,
 "nbformat_minor": 5
}
