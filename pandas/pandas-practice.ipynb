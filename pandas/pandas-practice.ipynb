{
 "cells": [
  {
   "cell_type": "markdown",
   "id": "8a7f0d0a",
   "metadata": {},
   "source": [
    "### FCC Numpy Practice\n",
    "\n",
    "Hands-on code based on the FCC Data Analysis Course for Pandas."
   ]
  },
  {
   "cell_type": "code",
   "execution_count": 1,
   "id": "45392a31",
   "metadata": {},
   "outputs": [],
   "source": [
    "#1. importing pandas \n",
    "import pandas as pd\n"
   ]
  },
  {
   "cell_type": "code",
   "execution_count": 3,
   "id": "51f72cdf",
   "metadata": {},
   "outputs": [
    {
     "name": "stdout",
     "output_type": "stream",
     "text": [
      "one      1\n",
      "two      2\n",
      "three    3\n",
      "four     4\n",
      "five     5\n",
      "dtype: int64\n",
      "a    1\n",
      "b    2\n",
      "c    3\n",
      "dtype: int64\n",
      "one      1\n",
      "two      2\n",
      "three    3\n",
      "four     4\n",
      "five     5\n",
      "Name: Number of students, dtype: int64\n"
     ]
    }
   ],
   "source": [
    "# Creating Series in Pandas\n",
    "\n",
    "s1 = pd.Series([1,2,3,4,5]) #without index\n",
    "s2 = pd.Series({\"a\":1,\"b\":2,\"c\":3}) #with index\n",
    "\n",
    "#we can also add index in this way:\n",
    "s1.index = [\"one\",\"two\",\"three\",\"four\",\"five\"]\n",
    "print(s1)\n",
    "print(s2)\n",
    "\n",
    "#naming the series \n",
    "s1.name = \"Number of students\"\n",
    "print(s1)"
   ]
  },
  {
   "cell_type": "code",
   "execution_count": 10,
   "id": "b8d3c6d4",
   "metadata": {},
   "outputs": [
    {
     "name": "stdout",
     "output_type": "stream",
     "text": [
      "1\n",
      "3\n",
      "b    2\n",
      "c    3\n",
      "dtype: int64\n",
      "a    1\n",
      "b    2\n",
      "dtype: int64\n",
      "1\n",
      "one     1\n",
      "four    4\n",
      "Name: Number of students, dtype: int64\n",
      "two      2\n",
      "three    3\n",
      "four     4\n",
      "Name: Number of students, dtype: int64\n",
      "a    1\n",
      "b    2\n",
      "c    3\n",
      "dtype: int64\n"
     ]
    }
   ],
   "source": [
    "#Indexing and slicing\n",
    "\n",
    "#index based - iloc\n",
    "print(s2.iloc[0])    #first elem\n",
    "print(s2.iloc[-1])   #last elem\n",
    "\n",
    "#NOTE - in iloc based indexing the stop value is excluded\n",
    "\n",
    "print(s2.iloc[1:3])  #positive slicing\n",
    "print(s2.iloc[:-1]) #negative slicing\n",
    "\n",
    "\n",
    "#label based - loc\n",
    "print(s2.loc[\"a\"])\n",
    "print(s1[[\"one\",\"four\"]])\n",
    "\n",
    "#NOTE - in loc based indexing the stop value is also included\n",
    "\n",
    "print(s1.loc[\"two\":\"four\"])\n",
    "print(s2.loc[\"a\":\"c\"])"
   ]
  },
  {
   "cell_type": "code",
   "execution_count": 14,
   "id": "8e519b9a",
   "metadata": {},
   "outputs": [
    {
     "name": "stdout",
     "output_type": "stream",
     "text": [
      "three    3\n",
      "four     4\n",
      "five     5\n",
      "Name: Number of students, dtype: int64\n",
      "three    3\n",
      "Name: Number of students, dtype: int64\n"
     ]
    }
   ],
   "source": [
    "#conditional selection in series\n",
    "s1 >= 3\n",
    "print(s1[s1 >=3])\n",
    "\n",
    "#more than one condition\n",
    "result = s1[(s1>2) & (s1<4)]\n",
    "print(result)\n"
   ]
  },
  {
   "cell_type": "code",
   "execution_count": 15,
   "id": "95d7decd",
   "metadata": {},
   "outputs": [
    {
     "name": "stderr",
     "output_type": "stream",
     "text": [
      "C:\\Users\\Hurshita Gupta\\AppData\\Local\\Temp\\ipykernel_12768\\2259805720.py:3: FutureWarning: Setting an item of incompatible dtype is deprecated and will raise an error in a future version of pandas. Value 'banana' has dtype incompatible with int64, please explicitly cast to a compatible dtype first.\n",
      "  s2.loc[\"b\"] = \"banana\"\n"
     ]
    }
   ],
   "source": [
    "# Modifying the series\n",
    "s1.iloc[0] = 10\n",
    "s2.loc[\"b\"] = \"banana\"\n",
    "s1[(s1>2) & (s1<4)] = 100"
   ]
  },
  {
   "cell_type": "code",
   "execution_count": null,
   "id": "f90f0626",
   "metadata": {},
   "outputs": [],
   "source": []
  },
  {
   "cell_type": "code",
   "execution_count": null,
   "id": "ece92234",
   "metadata": {},
   "outputs": [],
   "source": []
  },
  {
   "cell_type": "code",
   "execution_count": null,
   "id": "0569ddf5",
   "metadata": {},
   "outputs": [],
   "source": []
  },
  {
   "cell_type": "code",
   "execution_count": null,
   "id": "31657ba2",
   "metadata": {},
   "outputs": [],
   "source": []
  },
  {
   "cell_type": "code",
   "execution_count": null,
   "id": "d77b20ab",
   "metadata": {},
   "outputs": [],
   "source": []
  },
  {
   "cell_type": "code",
   "execution_count": null,
   "id": "4cf6f119",
   "metadata": {},
   "outputs": [],
   "source": []
  }
 ],
 "metadata": {
  "kernelspec": {
   "display_name": "Python 3",
   "language": "python",
   "name": "python3"
  },
  "language_info": {
   "codemirror_mode": {
    "name": "ipython",
    "version": 3
   },
   "file_extension": ".py",
   "mimetype": "text/x-python",
   "name": "python",
   "nbconvert_exporter": "python",
   "pygments_lexer": "ipython3",
   "version": "3.10.9"
  }
 },
 "nbformat": 4,
 "nbformat_minor": 5
}
