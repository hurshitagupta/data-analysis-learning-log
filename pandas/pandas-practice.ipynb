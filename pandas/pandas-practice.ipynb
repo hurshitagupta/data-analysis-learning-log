{
 "cells": [
  {
   "cell_type": "markdown",
   "id": "8a7f0d0a",
   "metadata": {},
   "source": [
    "### FCC Numpy Practice\n",
    "\n",
    "Hands-on code based on the FCC Data Analysis Course for Pandas."
   ]
  },
  {
   "cell_type": "markdown",
   "id": "6068bd8f",
   "metadata": {},
   "source": [
    "1. SERIES"
   ]
  },
  {
   "cell_type": "code",
   "execution_count": 31,
   "id": "45392a31",
   "metadata": {},
   "outputs": [],
   "source": [
    "#1. importing pandas \n",
    "import pandas as pd"
   ]
  },
  {
   "cell_type": "code",
   "execution_count": 32,
   "id": "51f72cdf",
   "metadata": {},
   "outputs": [
    {
     "name": "stdout",
     "output_type": "stream",
     "text": [
      "one      1\n",
      "two      2\n",
      "three    3\n",
      "four     4\n",
      "five     5\n",
      "dtype: int64\n",
      "a    1\n",
      "b    2\n",
      "c    3\n",
      "dtype: int64\n",
      "one      1\n",
      "two      2\n",
      "three    3\n",
      "four     4\n",
      "five     5\n",
      "Name: Number of students, dtype: int64\n"
     ]
    }
   ],
   "source": [
    "# Creating Series in Pandas\n",
    "\n",
    "s1 = pd.Series([1,2,3,4,5]) #without index\n",
    "s2 = pd.Series({\"a\":1,\"b\":2,\"c\":3}) #with index\n",
    "\n",
    "#we can also add index in this way:\n",
    "s1.index = [\"one\",\"two\",\"three\",\"four\",\"five\"]\n",
    "print(s1)\n",
    "print(s2)\n",
    "\n",
    "#naming the series \n",
    "s1.name = \"Number of students\"\n",
    "print(s1)"
   ]
  },
  {
   "cell_type": "code",
   "execution_count": 33,
   "id": "b8d3c6d4",
   "metadata": {},
   "outputs": [
    {
     "name": "stdout",
     "output_type": "stream",
     "text": [
      "1\n",
      "3\n",
      "b    2\n",
      "c    3\n",
      "dtype: int64\n",
      "a    1\n",
      "b    2\n",
      "dtype: int64\n",
      "1\n",
      "one     1\n",
      "four    4\n",
      "Name: Number of students, dtype: int64\n",
      "two      2\n",
      "three    3\n",
      "four     4\n",
      "Name: Number of students, dtype: int64\n",
      "a    1\n",
      "b    2\n",
      "c    3\n",
      "dtype: int64\n"
     ]
    }
   ],
   "source": [
    "#Indexing and slicing\n",
    "\n",
    "#index based - iloc\n",
    "print(s2.iloc[0])    #first elem\n",
    "print(s2.iloc[-1])   #last elem\n",
    "\n",
    "#NOTE - in iloc based indexing the stop value is excluded\n",
    "\n",
    "print(s2.iloc[1:3])  #positive slicing\n",
    "print(s2.iloc[:-1]) #negative slicing\n",
    "\n",
    "\n",
    "#label based - loc\n",
    "print(s2.loc[\"a\"])\n",
    "print(s1[[\"one\",\"four\"]])\n",
    "\n",
    "#NOTE - in loc based indexing the stop value is also included\n",
    "\n",
    "print(s1.loc[\"two\":\"four\"])\n",
    "print(s2.loc[\"a\":\"c\"])"
   ]
  },
  {
   "cell_type": "code",
   "execution_count": null,
   "id": "8e519b9a",
   "metadata": {},
   "outputs": [
    {
     "name": "stdout",
     "output_type": "stream",
     "text": [
      "three    3\n",
      "four     4\n",
      "five     5\n",
      "Name: Number of students, dtype: int64\n",
      "three    3\n",
      "Name: Number of students, dtype: int64\n"
     ]
    }
   ],
   "source": [
    "#conditional selection in series\n",
    "s1 >= 3\n",
    "print(s1[s1 >=3])\n",
    "\n",
    "#more than one condition\n",
    "result = s1[(s1>2) & (s1<4)]\n",
    "print(result)\n"
   ]
  },
  {
   "cell_type": "code",
   "execution_count": null,
   "id": "95d7decd",
   "metadata": {},
   "outputs": [
    {
     "name": "stderr",
     "output_type": "stream",
     "text": [
      "C:\\Users\\Hurshita Gupta\\AppData\\Local\\Temp\\ipykernel_23608\\2259805720.py:3: FutureWarning: Setting an item of incompatible dtype is deprecated and will raise an error in a future version of pandas. Value 'banana' has dtype incompatible with int64, please explicitly cast to a compatible dtype first.\n",
      "  s2.loc[\"b\"] = \"banana\"\n"
     ]
    }
   ],
   "source": [
    "# Modifying the series\n",
    "s1.iloc[0] = 10\n",
    "s2.loc[\"b\"] = \"banana\"\n",
    "s1[(s1>2) & (s1<4)] = 100"
   ]
  },
  {
   "cell_type": "markdown",
   "id": "08c75b9b",
   "metadata": {},
   "source": [
    "2. DATAFRAME"
   ]
  },
  {
   "cell_type": "code",
   "execution_count": 37,
   "id": "f90f0626",
   "metadata": {},
   "outputs": [
    {
     "name": "stdout",
     "output_type": "stream",
     "text": [
      "         Population      GDP    HDI Continent\n",
      "Canada        35.46  1785387  0.914   America\n",
      "France        63.95  2834561  0.888    Europe\n",
      "Germany       80.94  2345691  0.916    Europe\n",
      "Italy         60.66  3459081  0.873    Europe\n"
     ]
    }
   ],
   "source": [
    "#creating a dataframe\n",
    "\n",
    "df = pd.DataFrame({\n",
    "    \"Population\" : [35.46,63.95,80.94,60.66],\n",
    "    \"GDP\" : [1785387,2834561,2345691,3459081],\n",
    "    \"HDI\": [0.914,0.888,0.916,0.873],\n",
    "    \"Continent\": [\"America\",\"Europe\",\"Europe\",\"Europe\"]\n",
    "})\n",
    "\n",
    "df.index = [\"Canada\",\"France\",\"Germany\",\"Italy\"]\n",
    "\n",
    "print(df)"
   ]
  },
  {
   "cell_type": "code",
   "execution_count": null,
   "id": "ece92234",
   "metadata": {},
   "outputs": [
    {
     "name": "stdout",
     "output_type": "stream",
     "text": [
      "         Population      GDP    HDI Continent\n",
      "Canada        35.46  1785387  0.914   America\n",
      "France        63.95  2834561  0.888    Europe\n",
      "Germany       80.94  2345691  0.916    Europe\n",
      "Italy         60.66  3459081  0.873    Europe\n",
      "Index(['Population', 'GDP', 'HDI', 'Continent'], dtype='object')\n",
      "Population    float64\n",
      "GDP             int64\n",
      "HDI           float64\n",
      "Continent      object\n",
      "dtype: object\n",
      "<bound method DataFrame.info of          Population      GDP    HDI Continent\n",
      "Canada        35.46  1785387  0.914   America\n",
      "France        63.95  2834561  0.888    Europe\n",
      "Germany       80.94  2345691  0.916    Europe\n",
      "Italy         60.66  3459081  0.873    Europe>\n",
      "<bound method NDFrame.describe of          Population      GDP    HDI Continent\n",
      "Canada        35.46  1785387  0.914   America\n",
      "France        63.95  2834561  0.888    Europe\n",
      "Germany       80.94  2345691  0.916    Europe\n",
      "Italy         60.66  3459081  0.873    Europe>\n"
     ]
    }
   ],
   "source": [
    "print(df.head()) #first 5 rows\n",
    "print(df.columns) #column names\n",
    "print(df.dtypes) #datatypes\n",
    "print(df.info) #info about df\n",
    "print(df.describe) #statistical summary\n",
    "print(df.size) #total number of elements"
   ]
  },
  {
   "cell_type": "code",
   "execution_count": null,
   "id": "0569ddf5",
   "metadata": {},
   "outputs": [
    {
     "name": "stdout",
     "output_type": "stream",
     "text": [
      "Population      35.46\n",
      "GDP           1785387\n",
      "HDI             0.914\n",
      "Continent     America\n",
      "Name: Canada, dtype: object\n"
     ]
    },
    {
     "data": {
      "text/html": [
       "<div>\n",
       "<style scoped>\n",
       "    .dataframe tbody tr th:only-of-type {\n",
       "        vertical-align: middle;\n",
       "    }\n",
       "\n",
       "    .dataframe tbody tr th {\n",
       "        vertical-align: top;\n",
       "    }\n",
       "\n",
       "    .dataframe thead th {\n",
       "        text-align: right;\n",
       "    }\n",
       "</style>\n",
       "<table border=\"1\" class=\"dataframe\">\n",
       "  <thead>\n",
       "    <tr style=\"text-align: right;\">\n",
       "      <th></th>\n",
       "      <th>Population</th>\n",
       "      <th>Continent</th>\n",
       "    </tr>\n",
       "  </thead>\n",
       "  <tbody>\n",
       "    <tr>\n",
       "      <th>France</th>\n",
       "      <td>63.95</td>\n",
       "      <td>Europe</td>\n",
       "    </tr>\n",
       "    <tr>\n",
       "      <th>Germany</th>\n",
       "      <td>80.94</td>\n",
       "      <td>Europe</td>\n",
       "    </tr>\n",
       "  </tbody>\n",
       "</table>\n",
       "</div>"
      ],
      "text/plain": [
       "         Population Continent\n",
       "France        63.95    Europe\n",
       "Germany       80.94    Europe"
      ]
     },
     "execution_count": 41,
     "metadata": {},
     "output_type": "execute_result"
    }
   ],
   "source": [
    "# Indexing, Slicing and Selection\n",
    "\n",
    "print(df.loc[\"Canada\"])     #row 1 will be printed\n",
    "print(df.iloc[0])           #row 1 will be printed\n",
    "print(df[\"Population\"])     #population column will be printed\n",
    "print(df[[\"HDI\",\"GDP\"]])    #multiple column selection\n",
    "\n",
    "print(df[1:3])\n",
    "print(df.loc[\"France\":\"Italy\"])\n",
    "print(df.loc[\"France\":\"Italy\",[\"Population\",\"GDP\"]])\n",
    "print(df.iloc[1:3,2])\n",
    "print(df.iloc[1:3,[0,3]])"
   ]
  },
  {
   "cell_type": "code",
   "execution_count": 44,
   "id": "31657ba2",
   "metadata": {},
   "outputs": [
    {
     "name": "stdout",
     "output_type": "stream",
     "text": [
      "         Population      GDP    HDI Continent\n",
      "France        63.95  2834561  0.888    Europe\n",
      "Germany       80.94  2345691  0.916    Europe\n",
      "Italy         60.66  3459081  0.873    Europe\n",
      "         Population      GDP    HDI Continent\n",
      "Canada        35.46  1785387  0.914   America\n",
      "Germany       80.94  2345691  0.916    Europe\n"
     ]
    }
   ],
   "source": [
    "#conditional selection\n",
    "\n",
    "print(df.loc[df['Continent'] == \"Europe\"])\n",
    "print(df.loc[df['HDI']>0.90])"
   ]
  },
  {
   "cell_type": "code",
   "execution_count": 46,
   "id": "d77b20ab",
   "metadata": {},
   "outputs": [
    {
     "name": "stdout",
     "output_type": "stream",
     "text": [
      "         Population      GDP    HDI Continent\n",
      "France        63.95  2834561  0.888    Europe\n",
      "Germany       80.94  2345691  0.916    Europe\n",
      "Italy         60.66  3459081  0.873    Europe\n",
      "             GDP    HDI Continent\n",
      "Canada   1785387  0.914   America\n",
      "France   2834561  0.888    Europe\n",
      "Germany  2345691  0.916    Europe\n",
      "Italy    3459081  0.873    Europe\n",
      "        Population Continent\n",
      "Canada       35.46   America\n",
      "France       63.95    Europe\n"
     ]
    }
   ],
   "source": [
    "#dropping columns or rows\n",
    "\n",
    "print(df.drop(\"Canada\")) #does not alter the main df\n",
    "print(df.drop(columns=\"Population\"))\n",
    "\n",
    "print(df.drop(columns=[\"HDI\",\"GDP\"], index=[\"Germany\",\"Italy\"]))"
   ]
  },
  {
   "cell_type": "code",
   "execution_count": 47,
   "id": "4cf6f119",
   "metadata": {},
   "outputs": [
    {
     "data": {
      "text/html": [
       "<div>\n",
       "<style scoped>\n",
       "    .dataframe tbody tr th:only-of-type {\n",
       "        vertical-align: middle;\n",
       "    }\n",
       "\n",
       "    .dataframe tbody tr th {\n",
       "        vertical-align: top;\n",
       "    }\n",
       "\n",
       "    .dataframe thead th {\n",
       "        text-align: right;\n",
       "    }\n",
       "</style>\n",
       "<table border=\"1\" class=\"dataframe\">\n",
       "  <thead>\n",
       "    <tr style=\"text-align: right;\">\n",
       "      <th></th>\n",
       "      <th>Population</th>\n",
       "      <th>GDP</th>\n",
       "      <th>HDI</th>\n",
       "      <th>Continent</th>\n",
       "      <th>Language</th>\n",
       "    </tr>\n",
       "  </thead>\n",
       "  <tbody>\n",
       "    <tr>\n",
       "      <th>Canada</th>\n",
       "      <td>35.46</td>\n",
       "      <td>1785387</td>\n",
       "      <td>0.914</td>\n",
       "      <td>America</td>\n",
       "      <td>Canadian</td>\n",
       "    </tr>\n",
       "    <tr>\n",
       "      <th>France</th>\n",
       "      <td>63.95</td>\n",
       "      <td>2834561</td>\n",
       "      <td>0.888</td>\n",
       "      <td>Europe</td>\n",
       "      <td>Franzosich</td>\n",
       "    </tr>\n",
       "    <tr>\n",
       "      <th>Germany</th>\n",
       "      <td>80.94</td>\n",
       "      <td>2345691</td>\n",
       "      <td>0.916</td>\n",
       "      <td>Europe</td>\n",
       "      <td>Deutsch</td>\n",
       "    </tr>\n",
       "    <tr>\n",
       "      <th>Italy</th>\n",
       "      <td>60.66</td>\n",
       "      <td>3459081</td>\n",
       "      <td>0.873</td>\n",
       "      <td>Europe</td>\n",
       "      <td>Italian</td>\n",
       "    </tr>\n",
       "  </tbody>\n",
       "</table>\n",
       "</div>"
      ],
      "text/plain": [
       "         Population      GDP    HDI Continent    Language\n",
       "Canada        35.46  1785387  0.914   America    Canadian\n",
       "France        63.95  2834561  0.888    Europe  Franzosich\n",
       "Germany       80.94  2345691  0.916    Europe     Deutsch\n",
       "Italy         60.66  3459081  0.873    Europe     Italian"
      ]
     },
     "execution_count": 47,
     "metadata": {},
     "output_type": "execute_result"
    }
   ],
   "source": [
    "#adding a column to df\n",
    "\n",
    "langs = pd.Series({\n",
    "    \"Canada\": \"Canadian\",\n",
    "    \"France\": \"Franzosich\",\n",
    "    \"Germany\": \"Deutsch\",\n",
    "    \"Italy\": \"Italian\"\n",
    "}, name=\"Languages\")\n",
    "df[\"Language\"]= langs\n",
    "df"
   ]
  },
  {
   "cell_type": "code",
   "execution_count": 48,
   "id": "845701c7",
   "metadata": {},
   "outputs": [
    {
     "name": "stdout",
     "output_type": "stream",
     "text": [
      "         Population      GDP    HDI Continent    Language\n",
      "Canada        35.46  1785387  0.914   America    Canadian\n",
      "France        63.95  2834561  0.888    Europe  Franzosich\n",
      "Germany       80.94  2345691  0.916    Europe     Deutsch\n",
      "Italy         60.66  3459081  0.873    Europe     Italian\n"
     ]
    }
   ],
   "source": [
    "#renaming columns\n",
    "\n",
    "df.rename(columns={\"Population\":\"Pop\"},index={\"Italy\":\"Argentina\"})\n",
    "print(df)"
   ]
  },
  {
   "cell_type": "markdown",
   "id": "fd7b5201",
   "metadata": {},
   "source": [
    "3. Handling missing data with pandas"
   ]
  },
  {
   "cell_type": "code",
   "execution_count": null,
   "id": "08db265d",
   "metadata": {},
   "outputs": [
    {
     "name": "stdout",
     "output_type": "stream",
     "text": [
      "          name     sex first_appearance\n",
      "0   Spider-Man    Male          1962-08\n",
      "1     Iron Man    Male             None\n",
      "2  Black Widow    None          1964-04\n",
      "3         None  Female          1941-03\n",
      "4         Thor    Male              NaN\n",
      "name                1\n",
      "sex                 1\n",
      "first_appearance    2\n",
      "dtype: int64\n",
      "name                1\n",
      "sex                 1\n",
      "first_appearance    2\n",
      "dtype: int64\n",
      "name                4\n",
      "sex                 4\n",
      "first_appearance    3\n",
      "dtype: int64\n",
      "name                4\n",
      "sex                 4\n",
      "first_appearance    3\n",
      "dtype: int64\n",
      "          name     sex first_appearance\n",
      "0   Spider-Man    Male          1962-08\n",
      "1     Iron Man    Male              NaN\n",
      "2  Black Widow     NaN          1964-04\n",
      "3          NaN  Female          1941-03\n",
      "4         Thor    Male              NaN\n",
      "   name   sex first_appearance\n",
      "0   NaN   NaN              NaN\n",
      "1   NaN   NaN             None\n",
      "2   NaN  None              NaN\n",
      "3  None   NaN              NaN\n",
      "4   NaN   NaN              NaN\n"
     ]
    }
   ],
   "source": [
    "import pandas as pd\n",
    "import numpy as np\n",
    "\n",
    "data = {\n",
    "    'name': ['Spider-Man', 'Iron Man', 'Black Widow', None, 'Thor'],\n",
    "    'sex': ['Male', 'Male', None, 'Female', 'Male'],\n",
    "    'first_appearance': ['1962-08', None, '1964-04', '1941-03', np.nan]\n",
    "}\n",
    "\n",
    "df = pd.DataFrame(data)\n",
    "\n",
    "print(df)\n",
    "\n",
    "#detecting null values (isna,isnull)\n",
    "print(pd.isna(df).sum())\n",
    "print(pd.isnull(df).sum())\n",
    "\n",
    "# opposite of detecting the null values (notna,notnull)\n",
    "print(pd.notna(df).sum())\n",
    "print(pd.notnull(df).sum())"
   ]
  },
  {
   "cell_type": "code",
   "execution_count": 23,
   "id": "b4287b58",
   "metadata": {},
   "outputs": [
    {
     "name": "stdout",
     "output_type": "stream",
     "text": [
      "4\n",
      "210.0\n",
      "52.5\n",
      "90.0\n",
      "20.0\n"
     ]
    }
   ],
   "source": [
    "# Pandas Operations with Missing Values\n",
    "\n",
    "s1 = pd.Series([90,70,np.nan,30,20])\n",
    "\n",
    "print(s1.count())\n",
    "print(s1.sum())\n",
    "print(s1.mean())\n",
    "print(s1.max())\n",
    "print(s1.min())"
   ]
  },
  {
   "cell_type": "code",
   "execution_count": null,
   "id": "9da71181",
   "metadata": {},
   "outputs": [
    {
     "name": "stdout",
     "output_type": "stream",
     "text": [
      "         name   sex first_appearance\n",
      "0  Spider-Man  Male          1962-08\n",
      "Empty DataFrame\n",
      "Columns: []\n",
      "Index: [0, 1, 2, 3, 4]\n",
      "          name     sex first_appearance\n",
      "0   Spider-Man    Male          1962-08\n",
      "1     Iron Man    Male             None\n",
      "2  Black Widow    None          1964-04\n",
      "3         None  Female          1941-03\n",
      "4         Thor    Male              NaN\n",
      "         name   sex first_appearance\n",
      "0  Spider-Man  Male          1962-08\n",
      "          name     sex first_appearance\n",
      "0   Spider-Man    Male          1962-08\n",
      "1     Iron Man    Male             None\n",
      "2  Black Widow    None          1964-04\n",
      "3         None  Female          1941-03\n",
      "4         Thor    Male              NaN\n",
      "column dropped\n",
      "          name     sex\n",
      "0   Spider-Man    Male\n",
      "1     Iron Man    Male\n",
      "2  Black Widow    None\n",
      "3         None  Female\n",
      "4         Thor    Male\n"
     ]
    }
   ],
   "source": [
    "# Dropping the null values\n",
    "\n",
    "print(df.dropna())   #drop all the rows having null values\n",
    "print(df.dropna(axis=1))  #drop all the columns having null values\n",
    "\n",
    "# we can control the drop behavior using how attribute\n",
    "print(df.dropna(how='all'))   #drops the row only if all the values will be false\n",
    "print(df.dropna(how='any'))   #drops the row even if one value is null\n",
    "\n",
    "print(df.dropna(axis='columns',how='all')) #drop the column only if all the values are false\n",
    "\n",
    "#we can also provide a specific number of non-nulls using thresh attribute\n",
    "print(df.dropna(thresh=4,axis='columns'))\n"
   ]
  },
  {
   "cell_type": "code",
   "execution_count": null,
   "id": "f6adffc0",
   "metadata": {},
   "outputs": [
    {
     "name": "stdout",
     "output_type": "stream",
     "text": [
      "2\n",
      "0       Ajay\n",
      "1      Vijay\n",
      "2    Unknown\n",
      "3     Sanjay\n",
      "4    Unknown\n",
      "dtype: object\n",
      "0      Ajay\n",
      "1     Vijay\n",
      "2     Vijay\n",
      "3    Sanjay\n",
      "4    Sanjay\n",
      "dtype: object\n",
      "0      Ajay\n",
      "1     Vijay\n",
      "2    Sanjay\n",
      "3    Sanjay\n",
      "4       NaN\n",
      "dtype: object\n"
     ]
    },
    {
     "name": "stderr",
     "output_type": "stream",
     "text": [
      "C:\\Users\\Hurshita Gupta\\AppData\\Local\\Temp\\ipykernel_24908\\2056399038.py:10: FutureWarning: Series.fillna with 'method' is deprecated and will raise in a future version. Use obj.ffill() or obj.bfill() instead.\n",
      "  print(s.fillna(method='ffill'))\n",
      "C:\\Users\\Hurshita Gupta\\AppData\\Local\\Temp\\ipykernel_24908\\2056399038.py:11: FutureWarning: Series.fillna with 'method' is deprecated and will raise in a future version. Use obj.ffill() or obj.bfill() instead.\n",
      "  print(s.fillna(method='bfill'))\n"
     ]
    }
   ],
   "source": [
    "# Filling the missing data in Series\n",
    "\n",
    "s = pd.Series(['Ajay','Vijay',np.nan,'Sanjay',np.nan])\n",
    "print(s.isnull().sum())\n",
    "\n",
    "#filling the missing data using fillna\n",
    "print(s.fillna('Unknown'))\n",
    "\n",
    "#we can also fill the data using methods like ffill and bfill\n",
    "print(s.fillna(method='ffill'))\n",
    "print(s.fillna(method='bfill')) \n",
    "#NOTE! it is not necessary that using ffill or bfill will handle all the null values"
   ]
  },
  {
   "cell_type": "code",
   "execution_count": null,
   "id": "02e7161b",
   "metadata": {},
   "outputs": [
    {
     "name": "stdout",
     "output_type": "stream",
     "text": [
      "          name     sex first_appearance\n",
      "0   Spider-Man    Male          1962-08\n",
      "1     Iron Man    Male                0\n",
      "2  Black Widow       0          1964-04\n",
      "3            0  Female          1941-03\n",
      "4         Thor    Male                0\n",
      "          name     sex first_appearance\n",
      "0   Spider-Man    Male          1962-08\n",
      "1     Iron Man    Male             2005\n",
      "2  Black Widow   other          1964-04\n",
      "3      unknown  Female          1941-03\n",
      "4         Thor    Male             2005\n",
      "          name      sex first_appearance\n",
      "0   Spider-Man     Male          1962-08\n",
      "1     Iron Man     Male             None\n",
      "2  Black Widow  1964-04          1964-04\n",
      "3       Female   Female          1941-03\n",
      "4         Thor     Male              NaN\n",
      "          name     sex first_appearance\n",
      "0   Spider-Man    Male          1962-08\n",
      "1     Iron Man    Male          1962-08\n",
      "2  Black Widow    Male          1964-04\n",
      "3  Black Widow  Female          1941-03\n",
      "4         Thor    Male          1941-03\n"
     ]
    },
    {
     "name": "stderr",
     "output_type": "stream",
     "text": [
      "C:\\Users\\Hurshita Gupta\\AppData\\Local\\Temp\\ipykernel_24908\\409529010.py:16: FutureWarning: DataFrame.fillna with 'method' is deprecated and will raise in a future version. Use obj.ffill() or obj.bfill() instead.\n",
      "  print(df.fillna(method='bfill',axis=1))\n",
      "C:\\Users\\Hurshita Gupta\\AppData\\Local\\Temp\\ipykernel_24908\\409529010.py:17: FutureWarning: DataFrame.fillna with 'method' is deprecated and will raise in a future version. Use obj.ffill() or obj.bfill() instead.\n",
      "  print(df.fillna(method='ffill',axis=0))\n"
     ]
    }
   ],
   "source": [
    "# Filling the missing data in DataFrame\n",
    "\n",
    "data = {\n",
    "    'name': ['Spider-Man', 'Iron Man', 'Black Widow', None, 'Thor'],\n",
    "    'sex': ['Male', 'Male', None, 'Female', 'Male'],\n",
    "    'first_appearance': ['1962-08', None, '1964-04', '1941-03', np.nan]\n",
    "}\n",
    "\n",
    "df = pd.DataFrame(data)\n",
    "\n",
    "#populating all the null values using 0\n",
    "print(df.fillna(0))\n",
    "\n",
    "#populate the specific column with a specific value then-\n",
    "print(df.fillna({'name':'unknown','sex':'other','first_appearance':2005}))\n",
    "\n",
    "#using methods - ffill/bfill\n",
    "print(df.fillna(method='bfill',axis=1))\n",
    "print(df.fillna(method='ffill',axis=0))\n",
    "#(it is not necessary that these methods will handle all the null values)"
   ]
  },
  {
   "cell_type": "markdown",
   "id": "48076b5a",
   "metadata": {},
   "source": [
    "4. Cleaning Not Null Values"
   ]
  },
  {
   "cell_type": "code",
   "execution_count": 63,
   "id": "a8728f83",
   "metadata": {},
   "outputs": [
    {
     "name": "stdout",
     "output_type": "stream",
     "text": [
      "['M' 'F' 'D' '?']\n",
      "Sex\n",
      "F    2\n",
      "M    1\n",
      "D    1\n",
      "?    1\n",
      "Name: count, dtype: int64\n",
      "4\n",
      "0    M\n",
      "1    F\n",
      "2    F\n",
      "3    F\n",
      "4    M\n",
      "Name: Sex, dtype: object\n",
      "  Sex  Age\n",
      "0   M   29\n",
      "1   F   30\n",
      "2   F   24\n",
      "3   D   29\n",
      "4   ?   25\n"
     ]
    }
   ],
   "source": [
    "df = pd.DataFrame({\n",
    "    'Sex': ['M', 'F', 'F', 'D', '?'],\n",
    "    'Age': [29, 30, 24, 290, 25],\n",
    "})\n",
    "\n",
    "#finding the unique values in the df\n",
    "print(df['Sex'].unique())\n",
    "\n",
    "#finding the count of each value\n",
    "print(df['Sex'].value_counts())\n",
    "\n",
    "#finding the number of unique values\n",
    "print(df['Sex'].nunique())\n",
    "\n",
    "#replacing the incorrect value of sex\n",
    "print(df['Sex'].replace({'D':'F','?':'M'}))\n",
    "\n",
    "#correcting the age\n",
    "df.loc[df['Age'] > 100, 'Age'] = df.loc[df['Age'] > 100, 'Age'] / 10\n",
    "print(df)"
   ]
  },
  {
   "cell_type": "markdown",
   "id": "1780a2eb",
   "metadata": {},
   "source": [
    "5. Handling Duplicate Values"
   ]
  },
  {
   "cell_type": "code",
   "execution_count": null,
   "id": "554ee7e8",
   "metadata": {},
   "outputs": [
    {
     "name": "stdout",
     "output_type": "stream",
     "text": [
      "3\n"
     ]
    }
   ],
   "source": [
    "#Duplicates in Series\n",
    "ambassadors = pd.Series([\n",
    "    'France',\n",
    "    'United Kingdom',\n",
    "    'United Kingdom',\n",
    "    'Italy',\n",
    "    'Germany',\n",
    "    'Germany',\n",
    "    'Germany',\n",
    "], index=[\n",
    "    'Gérard Araud',\n",
    "    'Kim Darroch',\n",
    "    'Peter Westmacott',\n",
    "    'Armando Varricchio',\n",
    "    'Peter Wittig',\n",
    "    'Peter Ammon',\n",
    "    'Klaus Scharioth '\n",
    "])\n",
    "\n",
    "#finding the duplicate values in the Series\n",
    "print(ambassadors.duplicated())\n",
    "\n",
    "#if we want to keep the recent duplicated value then we can use keep attribut\n",
    "print(ambassadors.duplicated(keep='last'))\n",
    "\n",
    "#if we donot want to keep any value of the same kind then use keep=False\n",
    "print(ambassadors.duplicated(keep=False))\n",
    "\n",
    "#dropping the duplicate values\n",
    "ambassadors.drop_duplicates()\n",
    "ambassadors.drop_duplicates(keep='last')\n",
    "ambassadors.drop_duplicates(keep=False)\n",
    "\n",
    "#Duplicates in DataFrame\n",
    "\n",
    "players = pd.DataFrame({\n",
    "    'Name': [\n",
    "        'Kobe Bryant',\n",
    "        'LeBron James',\n",
    "        'Kobe Bryant',\n",
    "        'Carmelo Anthony',\n",
    "        'Kobe Bryant',\n",
    "    ],\n",
    "    'Pos': [\n",
    "        'SG',\n",
    "        'SF',\n",
    "        'SG',\n",
    "        'SF',\n",
    "        'SF'\n",
    "    ]\n",
    "})\n",
    "\n",
    "#finding the duplicate values in df\n",
    "print(players.duplicated())\n",
    "\n",
    "#finding duplicates in a specific column\n",
    "print(players.duplicated(subset=['Name']))\n",
    "print(players.duplicated(subset=['Name'], keep='last'))\n",
    "\n",
    "#dropping the duplicates of a specific column\n",
    "players.drop_duplicates(subset=['Name'])\n",
    "players.drop_duplicates(subset=['Name'], keep='last')\n"
   ]
  }
 ],
 "metadata": {
  "kernelspec": {
   "display_name": "Python 3",
   "language": "python",
   "name": "python3"
  },
  "language_info": {
   "codemirror_mode": {
    "name": "ipython",
    "version": 3
   },
   "file_extension": ".py",
   "mimetype": "text/x-python",
   "name": "python",
   "nbconvert_exporter": "python",
   "pygments_lexer": "ipython3",
   "version": "3.10.9"
  }
 },
 "nbformat": 4,
 "nbformat_minor": 5
}
