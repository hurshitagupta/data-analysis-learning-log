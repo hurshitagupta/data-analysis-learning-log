{
 "cells": [
  {
   "cell_type": "markdown",
   "id": "8a7f0d0a",
   "metadata": {},
   "source": [
    "### FCC Numpy Practice\n",
    "\n",
    "Hands-on code based on the FCC Data Analysis Course for Pandas."
   ]
  },
  {
   "cell_type": "markdown",
   "id": "6068bd8f",
   "metadata": {},
   "source": [
    "1. SERIES"
   ]
  },
  {
   "cell_type": "code",
   "execution_count": 31,
   "id": "45392a31",
   "metadata": {},
   "outputs": [],
   "source": [
    "#1. importing pandas \n",
    "import pandas as pd"
   ]
  },
  {
   "cell_type": "code",
   "execution_count": 32,
   "id": "51f72cdf",
   "metadata": {},
   "outputs": [
    {
     "name": "stdout",
     "output_type": "stream",
     "text": [
      "one      1\n",
      "two      2\n",
      "three    3\n",
      "four     4\n",
      "five     5\n",
      "dtype: int64\n",
      "a    1\n",
      "b    2\n",
      "c    3\n",
      "dtype: int64\n",
      "one      1\n",
      "two      2\n",
      "three    3\n",
      "four     4\n",
      "five     5\n",
      "Name: Number of students, dtype: int64\n"
     ]
    }
   ],
   "source": [
    "# Creating Series in Pandas\n",
    "\n",
    "s1 = pd.Series([1,2,3,4,5]) #without index\n",
    "s2 = pd.Series({\"a\":1,\"b\":2,\"c\":3}) #with index\n",
    "\n",
    "#we can also add index in this way:\n",
    "s1.index = [\"one\",\"two\",\"three\",\"four\",\"five\"]\n",
    "print(s1)\n",
    "print(s2)\n",
    "\n",
    "#naming the series \n",
    "s1.name = \"Number of students\"\n",
    "print(s1)"
   ]
  },
  {
   "cell_type": "code",
   "execution_count": 33,
   "id": "b8d3c6d4",
   "metadata": {},
   "outputs": [
    {
     "name": "stdout",
     "output_type": "stream",
     "text": [
      "1\n",
      "3\n",
      "b    2\n",
      "c    3\n",
      "dtype: int64\n",
      "a    1\n",
      "b    2\n",
      "dtype: int64\n",
      "1\n",
      "one     1\n",
      "four    4\n",
      "Name: Number of students, dtype: int64\n",
      "two      2\n",
      "three    3\n",
      "four     4\n",
      "Name: Number of students, dtype: int64\n",
      "a    1\n",
      "b    2\n",
      "c    3\n",
      "dtype: int64\n"
     ]
    }
   ],
   "source": [
    "#Indexing and slicing\n",
    "\n",
    "#index based - iloc\n",
    "print(s2.iloc[0])    #first elem\n",
    "print(s2.iloc[-1])   #last elem\n",
    "\n",
    "#NOTE - in iloc based indexing the stop value is excluded\n",
    "\n",
    "print(s2.iloc[1:3])  #positive slicing\n",
    "print(s2.iloc[:-1]) #negative slicing\n",
    "\n",
    "\n",
    "#label based - loc\n",
    "print(s2.loc[\"a\"])\n",
    "print(s1[[\"one\",\"four\"]])\n",
    "\n",
    "#NOTE - in loc based indexing the stop value is also included\n",
    "\n",
    "print(s1.loc[\"two\":\"four\"])\n",
    "print(s2.loc[\"a\":\"c\"])"
   ]
  },
  {
   "cell_type": "code",
   "execution_count": null,
   "id": "8e519b9a",
   "metadata": {},
   "outputs": [
    {
     "name": "stdout",
     "output_type": "stream",
     "text": [
      "three    3\n",
      "four     4\n",
      "five     5\n",
      "Name: Number of students, dtype: int64\n",
      "three    3\n",
      "Name: Number of students, dtype: int64\n"
     ]
    }
   ],
   "source": [
    "#conditional selection in series\n",
    "s1 >= 3\n",
    "print(s1[s1 >=3])\n",
    "\n",
    "#more than one condition\n",
    "result = s1[(s1>2) & (s1<4)]\n",
    "print(result)\n"
   ]
  },
  {
   "cell_type": "code",
   "execution_count": null,
   "id": "95d7decd",
   "metadata": {},
   "outputs": [
    {
     "name": "stderr",
     "output_type": "stream",
     "text": [
      "C:\\Users\\Hurshita Gupta\\AppData\\Local\\Temp\\ipykernel_23608\\2259805720.py:3: FutureWarning: Setting an item of incompatible dtype is deprecated and will raise an error in a future version of pandas. Value 'banana' has dtype incompatible with int64, please explicitly cast to a compatible dtype first.\n",
      "  s2.loc[\"b\"] = \"banana\"\n"
     ]
    }
   ],
   "source": [
    "# Modifying the series\n",
    "s1.iloc[0] = 10\n",
    "s2.loc[\"b\"] = \"banana\"\n",
    "s1[(s1>2) & (s1<4)] = 100"
   ]
  },
  {
   "cell_type": "markdown",
   "id": "08c75b9b",
   "metadata": {},
   "source": [
    "2. DATAFRAME"
   ]
  },
  {
   "cell_type": "code",
   "execution_count": 37,
   "id": "f90f0626",
   "metadata": {},
   "outputs": [
    {
     "name": "stdout",
     "output_type": "stream",
     "text": [
      "         Population      GDP    HDI Continent\n",
      "Canada        35.46  1785387  0.914   America\n",
      "France        63.95  2834561  0.888    Europe\n",
      "Germany       80.94  2345691  0.916    Europe\n",
      "Italy         60.66  3459081  0.873    Europe\n"
     ]
    }
   ],
   "source": [
    "#creating a dataframe\n",
    "\n",
    "df = pd.DataFrame({\n",
    "    \"Population\" : [35.46,63.95,80.94,60.66],\n",
    "    \"GDP\" : [1785387,2834561,2345691,3459081],\n",
    "    \"HDI\": [0.914,0.888,0.916,0.873],\n",
    "    \"Continent\": [\"America\",\"Europe\",\"Europe\",\"Europe\"]\n",
    "})\n",
    "\n",
    "df.index = [\"Canada\",\"France\",\"Germany\",\"Italy\"]\n",
    "\n",
    "print(df)"
   ]
  },
  {
   "cell_type": "code",
   "execution_count": null,
   "id": "ece92234",
   "metadata": {},
   "outputs": [
    {
     "name": "stdout",
     "output_type": "stream",
     "text": [
      "         Population      GDP    HDI Continent\n",
      "Canada        35.46  1785387  0.914   America\n",
      "France        63.95  2834561  0.888    Europe\n",
      "Germany       80.94  2345691  0.916    Europe\n",
      "Italy         60.66  3459081  0.873    Europe\n",
      "Index(['Population', 'GDP', 'HDI', 'Continent'], dtype='object')\n",
      "Population    float64\n",
      "GDP             int64\n",
      "HDI           float64\n",
      "Continent      object\n",
      "dtype: object\n",
      "<bound method DataFrame.info of          Population      GDP    HDI Continent\n",
      "Canada        35.46  1785387  0.914   America\n",
      "France        63.95  2834561  0.888    Europe\n",
      "Germany       80.94  2345691  0.916    Europe\n",
      "Italy         60.66  3459081  0.873    Europe>\n",
      "<bound method NDFrame.describe of          Population      GDP    HDI Continent\n",
      "Canada        35.46  1785387  0.914   America\n",
      "France        63.95  2834561  0.888    Europe\n",
      "Germany       80.94  2345691  0.916    Europe\n",
      "Italy         60.66  3459081  0.873    Europe>\n"
     ]
    }
   ],
   "source": [
    "print(df.head()) #first 5 rows\n",
    "print(df.columns) #column names\n",
    "print(df.dtypes) #datatypes\n",
    "print(df.info) #info about df\n",
    "print(df.describe) #statistical summary\n",
    "print(df.size) #total number of elements"
   ]
  },
  {
   "cell_type": "code",
   "execution_count": null,
   "id": "0569ddf5",
   "metadata": {},
   "outputs": [
    {
     "name": "stdout",
     "output_type": "stream",
     "text": [
      "Population      35.46\n",
      "GDP           1785387\n",
      "HDI             0.914\n",
      "Continent     America\n",
      "Name: Canada, dtype: object\n"
     ]
    },
    {
     "data": {
      "text/html": [
       "<div>\n",
       "<style scoped>\n",
       "    .dataframe tbody tr th:only-of-type {\n",
       "        vertical-align: middle;\n",
       "    }\n",
       "\n",
       "    .dataframe tbody tr th {\n",
       "        vertical-align: top;\n",
       "    }\n",
       "\n",
       "    .dataframe thead th {\n",
       "        text-align: right;\n",
       "    }\n",
       "</style>\n",
       "<table border=\"1\" class=\"dataframe\">\n",
       "  <thead>\n",
       "    <tr style=\"text-align: right;\">\n",
       "      <th></th>\n",
       "      <th>Population</th>\n",
       "      <th>Continent</th>\n",
       "    </tr>\n",
       "  </thead>\n",
       "  <tbody>\n",
       "    <tr>\n",
       "      <th>France</th>\n",
       "      <td>63.95</td>\n",
       "      <td>Europe</td>\n",
       "    </tr>\n",
       "    <tr>\n",
       "      <th>Germany</th>\n",
       "      <td>80.94</td>\n",
       "      <td>Europe</td>\n",
       "    </tr>\n",
       "  </tbody>\n",
       "</table>\n",
       "</div>"
      ],
      "text/plain": [
       "         Population Continent\n",
       "France        63.95    Europe\n",
       "Germany       80.94    Europe"
      ]
     },
     "execution_count": 41,
     "metadata": {},
     "output_type": "execute_result"
    }
   ],
   "source": [
    "# Indexing, Slicing and Selection\n",
    "\n",
    "print(df.loc[\"Canada\"])     #row 1 will be printed\n",
    "print(df.iloc[0])           #row 1 will be printed\n",
    "print(df[\"Population\"])     #population column will be printed\n",
    "print(df[[\"HDI\",\"GDP\"]])    #multiple column selection\n",
    "\n",
    "print(df[1:3])\n",
    "print(df.loc[\"France\":\"Italy\"])\n",
    "print(df.loc[\"France\":\"Italy\",[\"Population\",\"GDP\"]])\n",
    "print(df.iloc[1:3,2])\n",
    "print(df.iloc[1:3,[0,3]])"
   ]
  },
  {
   "cell_type": "code",
   "execution_count": 44,
   "id": "31657ba2",
   "metadata": {},
   "outputs": [
    {
     "name": "stdout",
     "output_type": "stream",
     "text": [
      "         Population      GDP    HDI Continent\n",
      "France        63.95  2834561  0.888    Europe\n",
      "Germany       80.94  2345691  0.916    Europe\n",
      "Italy         60.66  3459081  0.873    Europe\n",
      "         Population      GDP    HDI Continent\n",
      "Canada        35.46  1785387  0.914   America\n",
      "Germany       80.94  2345691  0.916    Europe\n"
     ]
    }
   ],
   "source": [
    "#conditional selection\n",
    "\n",
    "print(df.loc[df['Continent'] == \"Europe\"])\n",
    "print(df.loc[df['HDI']>0.90])"
   ]
  },
  {
   "cell_type": "code",
   "execution_count": 46,
   "id": "d77b20ab",
   "metadata": {},
   "outputs": [
    {
     "name": "stdout",
     "output_type": "stream",
     "text": [
      "         Population      GDP    HDI Continent\n",
      "France        63.95  2834561  0.888    Europe\n",
      "Germany       80.94  2345691  0.916    Europe\n",
      "Italy         60.66  3459081  0.873    Europe\n",
      "             GDP    HDI Continent\n",
      "Canada   1785387  0.914   America\n",
      "France   2834561  0.888    Europe\n",
      "Germany  2345691  0.916    Europe\n",
      "Italy    3459081  0.873    Europe\n",
      "        Population Continent\n",
      "Canada       35.46   America\n",
      "France       63.95    Europe\n"
     ]
    }
   ],
   "source": [
    "#dropping columns or rows\n",
    "\n",
    "print(df.drop(\"Canada\")) #does not alter the main df\n",
    "print(df.drop(columns=\"Population\"))\n",
    "\n",
    "print(df.drop(columns=[\"HDI\",\"GDP\"], index=[\"Germany\",\"Italy\"]))"
   ]
  },
  {
   "cell_type": "code",
   "execution_count": 47,
   "id": "4cf6f119",
   "metadata": {},
   "outputs": [
    {
     "data": {
      "text/html": [
       "<div>\n",
       "<style scoped>\n",
       "    .dataframe tbody tr th:only-of-type {\n",
       "        vertical-align: middle;\n",
       "    }\n",
       "\n",
       "    .dataframe tbody tr th {\n",
       "        vertical-align: top;\n",
       "    }\n",
       "\n",
       "    .dataframe thead th {\n",
       "        text-align: right;\n",
       "    }\n",
       "</style>\n",
       "<table border=\"1\" class=\"dataframe\">\n",
       "  <thead>\n",
       "    <tr style=\"text-align: right;\">\n",
       "      <th></th>\n",
       "      <th>Population</th>\n",
       "      <th>GDP</th>\n",
       "      <th>HDI</th>\n",
       "      <th>Continent</th>\n",
       "      <th>Language</th>\n",
       "    </tr>\n",
       "  </thead>\n",
       "  <tbody>\n",
       "    <tr>\n",
       "      <th>Canada</th>\n",
       "      <td>35.46</td>\n",
       "      <td>1785387</td>\n",
       "      <td>0.914</td>\n",
       "      <td>America</td>\n",
       "      <td>Canadian</td>\n",
       "    </tr>\n",
       "    <tr>\n",
       "      <th>France</th>\n",
       "      <td>63.95</td>\n",
       "      <td>2834561</td>\n",
       "      <td>0.888</td>\n",
       "      <td>Europe</td>\n",
       "      <td>Franzosich</td>\n",
       "    </tr>\n",
       "    <tr>\n",
       "      <th>Germany</th>\n",
       "      <td>80.94</td>\n",
       "      <td>2345691</td>\n",
       "      <td>0.916</td>\n",
       "      <td>Europe</td>\n",
       "      <td>Deutsch</td>\n",
       "    </tr>\n",
       "    <tr>\n",
       "      <th>Italy</th>\n",
       "      <td>60.66</td>\n",
       "      <td>3459081</td>\n",
       "      <td>0.873</td>\n",
       "      <td>Europe</td>\n",
       "      <td>Italian</td>\n",
       "    </tr>\n",
       "  </tbody>\n",
       "</table>\n",
       "</div>"
      ],
      "text/plain": [
       "         Population      GDP    HDI Continent    Language\n",
       "Canada        35.46  1785387  0.914   America    Canadian\n",
       "France        63.95  2834561  0.888    Europe  Franzosich\n",
       "Germany       80.94  2345691  0.916    Europe     Deutsch\n",
       "Italy         60.66  3459081  0.873    Europe     Italian"
      ]
     },
     "execution_count": 47,
     "metadata": {},
     "output_type": "execute_result"
    }
   ],
   "source": [
    "#adding a column to df\n",
    "\n",
    "langs = pd.Series({\n",
    "    \"Canada\": \"Canadian\",\n",
    "    \"France\": \"Franzosich\",\n",
    "    \"Germany\": \"Deutsch\",\n",
    "    \"Italy\": \"Italian\"\n",
    "}, name=\"Languages\")\n",
    "df[\"Language\"]= langs\n",
    "df"
   ]
  },
  {
   "cell_type": "code",
   "execution_count": 48,
   "id": "845701c7",
   "metadata": {},
   "outputs": [
    {
     "name": "stdout",
     "output_type": "stream",
     "text": [
      "         Population      GDP    HDI Continent    Language\n",
      "Canada        35.46  1785387  0.914   America    Canadian\n",
      "France        63.95  2834561  0.888    Europe  Franzosich\n",
      "Germany       80.94  2345691  0.916    Europe     Deutsch\n",
      "Italy         60.66  3459081  0.873    Europe     Italian\n"
     ]
    }
   ],
   "source": [
    "#renaming columns\n",
    "\n",
    "df.rename(columns={\"Population\":\"Pop\"},index={\"Italy\":\"Argentina\"})\n",
    "print(df)"
   ]
  }
 ],
 "metadata": {
  "kernelspec": {
   "display_name": "Python 3",
   "language": "python",
   "name": "python3"
  },
  "language_info": {
   "codemirror_mode": {
    "name": "ipython",
    "version": 3
   },
   "file_extension": ".py",
   "mimetype": "text/x-python",
   "name": "python",
   "nbconvert_exporter": "python",
   "pygments_lexer": "ipython3",
   "version": "3.10.9"
  }
 },
 "nbformat": 4,
 "nbformat_minor": 5
}
