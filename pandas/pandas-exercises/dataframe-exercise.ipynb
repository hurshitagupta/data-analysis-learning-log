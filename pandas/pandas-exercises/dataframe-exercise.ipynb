{
 "cells": [
  {
   "cell_type": "markdown",
   "id": "1c33ee8f",
   "metadata": {},
   "source": [
    "### DataFrame FCC Review Exercises\n",
    "\n",
    "Practical exercises that closely follow the FreeCodeCamp curriculum to reinforce understanding."
   ]
  },
  {
   "cell_type": "code",
   "execution_count": 2,
   "id": "6c15d8f3",
   "metadata": {},
   "outputs": [],
   "source": [
    "import pandas as pd\n",
    "import numpy as np"
   ]
  },
  {
   "cell_type": "code",
   "execution_count": null,
   "id": "65743aa9",
   "metadata": {},
   "outputs": [
    {
     "name": "stdout",
     "output_type": "stream",
     "text": [
      "                    sex first_appearance\n",
      "Spider-Man         Male             1962\n",
      "Iron Man           Male             1963\n",
      "Black Widow      Female             1964\n",
      "Captain America    Male             1941\n",
      "Thor               Male             1962\n",
      "                    name     sex first_appearance\n",
      "Spider-Man    Spider-Man    Male             1962\n",
      "Black Widow  Black Widow  Female             1964\n",
      "Thor                Thor    Male             1962\n"
     ]
    }
   ],
   "source": [
    "#Exercise 1 : DataFrame Creation\n",
    "#create a marvel_df \n",
    "\n",
    "data = {\n",
    "    'name': ['Spider-Man', 'Iron Man', 'Black Widow', 'Captain America', 'Thor'],\n",
    "    'sex': ['Male', 'Male', 'Female', 'Male', 'Male'],\n",
    "    'first_appearance': ['1962', '1963', '1964', '1941', '1962']  # using Year-Month format\n",
    "}\n",
    "\n",
    "df = pd.DataFrame(data)\n",
    "\n",
    "# add index names to marvel df\n",
    "df.index = data['name']\n",
    "\n",
    "# drop the name column\n",
    "print(df.drop(columns='name'))\n",
    "\n",
    "#drop iron man and captain america rows\n",
    "print(df.drop([\"Iron Man\",\"Captain America\"]))"
   ]
  },
  {
   "cell_type": "code",
   "execution_count": null,
   "id": "2df251d0",
   "metadata": {},
   "outputs": [
    {
     "name": "stdout",
     "output_type": "stream",
     "text": [
      "                    name     sex first_appearance\n",
      "Spider-Man    Spider-Man    Male             1962\n",
      "Iron Man        Iron Man    Male             1963\n",
      "Black Widow  Black Widow  Female             1964\n",
      "                    name     sex first_appearance\n",
      "Spider-Man    Spider-Man    Male             1962\n",
      "Iron Man        Iron Man    Male             1963\n",
      "Black Widow  Black Widow  Female             1964\n",
      "                            name     sex first_appearance\n",
      "Black Widow          Black Widow  Female             1964\n",
      "Captain America  Captain America    Male             1941\n",
      "Thor                        Thor    Male             1962\n",
      "Spider-Man       Male\n",
      "Iron Man         Male\n",
      "Black Widow    Female\n",
      "Name: sex, dtype: object\n",
      "Iron Man           1963\n",
      "Black Widow        1964\n",
      "Captain America    1941\n",
      "Name: first_appearance, dtype: object\n",
      "1962\n"
     ]
    }
   ],
   "source": [
    "#Exercise 2:DataFrame selection,slicing and indexation\n",
    "\n",
    "# show the first 3 elements of df\n",
    "print(df.iloc[0:3])\n",
    "print(df.loc[\"Spider-Man\":\"Black Widow\"])\n",
    "\n",
    "#show the last three elements of df\n",
    "print(df.iloc[-3:])\n",
    "\n",
    "#show just the sex of first 3 elements \n",
    "print(df.iloc[:3,1])\n",
    "\n",
    "#show the first_appearance of all middle elements \n",
    "print(df.iloc[1:-1,-1])\n",
    "\n",
    "#show the first and last elements\n",
    "print(df.iloc[0,-1])"
   ]
  },
  {
   "cell_type": "code",
   "execution_count": null,
   "id": "e12c9bec",
   "metadata": {},
   "outputs": [
    {
     "name": "stdout",
     "output_type": "stream",
     "text": [
      "                            name     sex first_appearance\n",
      "Spider-Man            Spider-Man    Male             1962\n",
      "Iron Man                Iron Man    Male             1964\n",
      "Black Widow          Black Widow  Female             1964\n",
      "Captain America  Captain America    Male             1941\n",
      "Thor                        Thor    Male             1962\n",
      "                            name     sex first_appearance  years_since\n",
      "Spider-Man            Spider-Man    Male             1962           63\n",
      "Iron Man                Iron Man    Male             1964           61\n",
      "Black Widow          Black Widow  Female             1964           61\n",
      "Captain America  Captain America    Male             1941           84\n",
      "Thor                        Thor    Male             1962           63\n"
     ]
    }
   ],
   "source": [
    "#Exercise 3: DataFrame manipulation and operations\n",
    "\n",
    "#modify the first_appearance of \"iron man\" to 1964\n",
    "df.loc[\"Iron Man\",\"first_appearance\"] = 1964\n",
    "print(df)\n",
    "\n",
    "#add a column called \"years_since\" with the years since first_appearacne\n",
    "df[\"years_since\"] = 2025 - df[\"first_appearance\"].astype(int)\n",
    "print(df)"
   ]
  },
  {
   "cell_type": "code",
   "execution_count": null,
   "id": "d9cf3d2d",
   "metadata": {},
   "outputs": [
    {
     "name": "stdout",
     "output_type": "stream",
     "text": [
      "                    name     sex first_appearance  years_since\n",
      "Black Widow  Black Widow  Female             1964           61\n",
      "                            name   sex first_appearance  years_since\n",
      "Spider-Man            Spider-Man  Male             1962           63\n",
      "Iron Man                Iron Man  Male             1964           61\n",
      "Captain America  Captain America  Male             1941           84\n",
      "Thor                        Thor  Male             1962           63\n",
      "Empty DataFrame\n",
      "Columns: [name, sex, first_appearance, years_since]\n",
      "Index: []\n",
      "Empty DataFrame\n",
      "Columns: [name, sex, first_appearance, years_since]\n",
      "Index: []\n"
     ]
    }
   ],
   "source": [
    "#Exercise 4:DataFram boolean arrays\n",
    "\n",
    "# Given pandas df above, make a mask showing the female characters\n",
    "mask = df['sex'] == 'Female'\n",
    "print(df[mask])\n",
    "\n",
    "# Given the mdf, get the male characters\n",
    "male_char = df[\"sex\"] == \"Male\"\n",
    "print(df[male_char])\n",
    "\n",
    "# Get the characters with first_appearance after 1970\n",
    "appearance = df['first_appearance'].astype(int) > 1970\n",
    "print(df[appearance])\n",
    "\n",
    "# Get the female characters with first_aftearance after 1970\n",
    "appearance_f = df[(df['first_appearance'].astype(int) > 1970) & (df['sex']==\"Female\")]\n",
    "print(appearance_f)"
   ]
  },
  {
   "cell_type": "code",
   "execution_count": null,
   "id": "a47a394c",
   "metadata": {},
   "outputs": [
    {
     "name": "stdout",
     "output_type": "stream",
     "text": [
      "1941\n",
      "Empty DataFrame\n",
      "Columns: [name, sex, first_appearance, years_since]\n",
      "Index: []\n"
     ]
    }
   ],
   "source": [
    "# Exercise 5:DataFrame summary statistics\n",
    "\n",
    "# Show the min value of first_appearance\n",
    "print(df['first_appearance'].astype(int).min())\n",
    "\n",
    "# Get the characters with the min value of first appearance\n",
    "min_val = df['first_appearance'].astype(int).min()\n",
    "print(df[df['first_appearance']==min_val])"
   ]
  }
 ],
 "metadata": {
  "kernelspec": {
   "display_name": "Python 3",
   "language": "python",
   "name": "python3"
  },
  "language_info": {
   "codemirror_mode": {
    "name": "ipython",
    "version": 3
   },
   "file_extension": ".py",
   "mimetype": "text/x-python",
   "name": "python",
   "nbconvert_exporter": "python",
   "pygments_lexer": "ipython3",
   "version": "3.10.9"
  }
 },
 "nbformat": 4,
 "nbformat_minor": 5
}
