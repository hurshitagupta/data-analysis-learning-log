{
 "cells": [
  {
   "cell_type": "markdown",
   "id": "b84c4080",
   "metadata": {},
   "source": [
    "### Series FCC Review Exercises\n",
    "\n",
    "Practical exercises that closely follow the FreeCodeCamp curriculum to reinforce understanding."
   ]
  },
  {
   "cell_type": "code",
   "execution_count": 9,
   "id": "9404426b",
   "metadata": {},
   "outputs": [],
   "source": [
    "import pandas as pd\n",
    "import numpy as np"
   ]
  },
  {
   "cell_type": "code",
   "execution_count": 2,
   "id": "74bb145b",
   "metadata": {},
   "outputs": [
    {
     "name": "stdout",
     "output_type": "stream",
     "text": [
      "Series([], dtype: object)\n"
     ]
    }
   ],
   "source": [
    "#Exercise 1 : Create an empty Series\n",
    "\n",
    "empty = pd.Series()\n",
    "print(empty)"
   ]
  },
  {
   "cell_type": "code",
   "execution_count": null,
   "id": "f896571a",
   "metadata": {},
   "outputs": [],
   "source": [
    "#Exercise 2 : Given the X python list convert it into Y pandas series\n",
    "\n",
    "X = [\"A\",\"B\",\"C\",\"D\"]\n",
    "\n",
    "Y = pd.Series(X)\n",
    "print(Y)"
   ]
  },
  {
   "cell_type": "code",
   "execution_count": null,
   "id": "92b798c6",
   "metadata": {},
   "outputs": [],
   "source": [
    "#Exercise 3: Given the X pandas Series, name it \"My letters\"\n",
    "\n",
    "X = pd.Series([\"X\",\"Y\",\"Z\"])\n",
    "X.name = \"My letters\"\n",
    "\n",
    "print(X)"
   ]
  },
  {
   "cell_type": "code",
   "execution_count": 8,
   "id": "09741cf3",
   "metadata": {},
   "outputs": [
    {
     "name": "stdout",
     "output_type": "stream",
     "text": [
      "A\n",
      "A\n",
      "C\n",
      "C\n",
      "second    B\n",
      "dtype: object\n",
      "B\n",
      "third     C\n",
      "second    B\n",
      "first     A\n",
      "dtype: object\n",
      "first    A\n",
      "third    C\n",
      "dtype: object\n"
     ]
    }
   ],
   "source": [
    "#Exercise 4:\n",
    "# Given the X pandas series, show its first element\n",
    "\n",
    "X = pd.Series([\"A\",\"B\",\"C\"], index=[\"first\",\"second\",\"third\"])\n",
    "\n",
    "print(X.iloc[0])\n",
    "print(X.loc[\"first\"])\n",
    "\n",
    "# Given the X pandas series, show its last element\n",
    "print(X.iloc[-1])\n",
    "print(X.loc[\"third\"])\n",
    "\n",
    "# Given the X pandas series, show its middle elements\n",
    "print(X.iloc[1:-1])\n",
    "print(X.loc[\"second\"])\n",
    "\n",
    "# Given the X pandas series, show the elements in reverse position\n",
    "print(X.iloc[::-1])\n",
    "\n",
    "# Given the X pandas series, show first and last element\n",
    "print(X.iloc[[0,-1]])"
   ]
  },
  {
   "cell_type": "code",
   "execution_count": 11,
   "id": "c679290b",
   "metadata": {},
   "outputs": [
    {
     "data": {
      "text/plain": [
       "first     90.0\n",
       "second    65.0\n",
       "third     89.0\n",
       "fourth    32.0\n",
       "fifth     45.0\n",
       "dtype: float64"
      ]
     },
     "execution_count": 11,
     "metadata": {},
     "output_type": "execute_result"
    }
   ],
   "source": [
    "#Exercise 5: Convert the given integer pandas to float\n",
    "\n",
    "X = pd.Series([90,65,89,32,45], index=[\"first\",\"second\",\"third\",\"fourth\",\"fifth\"])\n",
    "\n",
    "pd.Series(X,dtype= float)"
   ]
  },
  {
   "cell_type": "code",
   "execution_count": 12,
   "id": "2a5e5e7f",
   "metadata": {},
   "outputs": [
    {
     "name": "stdout",
     "output_type": "stream",
     "text": [
      "first     90\n",
      "second    65\n",
      "third     89\n",
      "fourth    32\n",
      "fifth     45\n",
      "dtype: int64\n"
     ]
    }
   ],
   "source": [
    "#Exercise 6: Sort given pandas series\n",
    "\n",
    "X = pd.Series([90,65,89,32,45], index=[\"first\",\"second\",\"third\",\"fourth\",\"fifth\"])\n",
    "\n",
    "X.sort_values\n",
    "print(X)"
   ]
  },
  {
   "cell_type": "code",
   "execution_count": 14,
   "id": "b30c2ec1",
   "metadata": {},
   "outputs": [
    {
     "name": "stdout",
     "output_type": "stream",
     "text": [
      "first     90\n",
      "second    65\n",
      "third     89\n",
      "fourth    32\n",
      "fifth     10\n",
      "dtype: int64\n",
      "first      90\n",
      "second    100\n",
      "third     100\n",
      "fourth    100\n",
      "fifth      10\n",
      "dtype: int64\n",
      "first      95\n",
      "second    105\n",
      "third     105\n",
      "fourth    105\n",
      "fifth      15\n",
      "dtype: int64\n"
     ]
    }
   ],
   "source": [
    "#Exercise 7: \n",
    "#Convert the fifth element to 10\n",
    "X = pd.Series([90,65,89,32,45], index=[\"first\",\"second\",\"third\",\"fourth\",\"fifth\"])\n",
    "\n",
    "X.loc[\"fifth\"] = 10\n",
    "print(X)\n",
    "\n",
    "#Convert the middle elements to 100\n",
    "X.iloc[1:-1] = 100\n",
    "print(X)\n",
    "\n",
    "#Add 5 to every element\n",
    "X = X + 5\n",
    "print(X)\n"
   ]
  },
  {
   "cell_type": "code",
   "execution_count": 16,
   "id": "f964a542",
   "metadata": {},
   "outputs": [
    {
     "name": "stdout",
     "output_type": "stream",
     "text": [
      "0    -1\n",
      "4   -90\n",
      "6   -43\n",
      "dtype: int64\n",
      "3    67\n",
      "5    80\n",
      "dtype: int64\n",
      "2     3\n",
      "3    67\n",
      "5    80\n",
      "dtype: int64\n",
      "1    2\n",
      "dtype: int64\n"
     ]
    }
   ],
   "source": [
    "#Exercise 8: \n",
    "#Given the X pandas Series, make a mask showing negative elements\n",
    "\n",
    "X = pd.Series([-1,2,3,67,-90,80,-43])\n",
    "\n",
    "negative = X[X <= 0]\n",
    "print(negative)\n",
    "\n",
    "#Given the X pandas Series, get numbers higher than 50\n",
    "greater_50 = X[X>50]\n",
    "print(greater_50)\n",
    "\n",
    "#Given the X pandas Series, get numbers higher than elements mean\n",
    "greater_mean = X[X > X.mean()]\n",
    "print(greater_mean)\n",
    "\n",
    "#Given the X pandas Series, get numbers equal to 2 or 10\n",
    "ten_or_two = X[(X==2) | (X==10)]\n",
    "print(ten_or_two)\n"
   ]
  },
  {
   "cell_type": "code",
   "execution_count": null,
   "id": "3f44068a",
   "metadata": {},
   "outputs": [
    {
     "name": "stdout",
     "output_type": "stream",
     "text": [
      "False\n"
     ]
    }
   ],
   "source": [
    "#Exercise 9: \n",
    "# Given the X pandas Series, return True if none of its elements is zero\n",
    "\n",
    "X = pd.Series([-1,0,9,-34,-30,8,0,-3])\n",
    "print(X.all())\n",
    "\n",
    "# Given the X pandas Series, return True if one of its elements is zero\n",
    "print(X.any())"
   ]
  },
  {
   "cell_type": "code",
   "execution_count": 18,
   "id": "2bf39252",
   "metadata": {},
   "outputs": [
    {
     "name": "stdout",
     "output_type": "stream",
     "text": [
      "117\n",
      "14.625\n",
      "90\n"
     ]
    }
   ],
   "source": [
    "#Exercise 10: Given the X pandas Series, show: sum, mean and max values from the series\n",
    "\n",
    "X = pd.Series([90,8,0,23,67,-8,-23,-40])\n",
    "\n",
    "print(X.sum())\n",
    "print(X.mean())\n",
    "print(X.max())"
   ]
  }
 ],
 "metadata": {
  "kernelspec": {
   "display_name": "Python 3",
   "language": "python",
   "name": "python3"
  },
  "language_info": {
   "codemirror_mode": {
    "name": "ipython",
    "version": 3
   },
   "file_extension": ".py",
   "mimetype": "text/x-python",
   "name": "python",
   "nbconvert_exporter": "python",
   "pygments_lexer": "ipython3",
   "version": "3.10.9"
  }
 },
 "nbformat": 4,
 "nbformat_minor": 5
}
